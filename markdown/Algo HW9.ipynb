{
 "metadata": {
  "name": "",
  "signature": "sha256:7e1f94dd253141e4f44baa65d48b59060147e874a2a9474a46fcc1b6aa16c0b3"
 },
 "nbformat": 3,
 "nbformat_minor": 0,
 "worksheets": [
  {
   "cells": [
    {
     "cell_type": "markdown",
     "metadata": {},
     "source": [
      "###19.4-1\n",
      "$H$ $:=$ MAKE-HEAP()<br />\n",
      "INSERT($H$, $n$)<br />\n",
      "INSERT($H$, $n-1$)<br />\n",
      "INSERT($H$, $-\\infty$)<br />\n",
      "EXTRACT-MIN($H$)<br />\n",
      " \n",
      "for $k$ from $n-2$ down to $1$:<br />\n",
      "&emsp;&emsp;INSERT($H$, $k$)<br />\n",
      "&emsp;&emsp;INSERT($H$, $\\infty$)<br />\n",
      "&emsp;&emsp;INSERT($H$, $-\\infty$)<br />\n",
      "&emsp;&emsp;EXTRACT-MIN($H$)<br />\n",
      "&emsp;&emsp;DELETE($H$, $\\infty$)<br />\n",
      "\n",
      "####<u>Loop Invariant</u>: <br />**In the start of each iteration, $H$ has one linear min-tree with $n-k$ elements, i.e. a chain with length $n-k$.**<br />\n",
      "####<u>Initialization</u>: <br />**Before the for-loop starts, we have a Fibonacci heap $H$ consisting with one min-tree of 2 elements, i.e. a chain with length 2.**<br />\n",
      "####<u>Maintenance</u>: <br />**Consider the EXTRACT-MIN operation in an iteration for some $k$, it will remove $-\\infty$ and merge $H$ into one min-tree with almost linear shape but the root has two children. Then the DELETE operation make the min-tree to be linear and of $n-k+1$ elements.**<br />\n",
      "####<u>Termination</u>: <br />**As above discussion, when the last iteration ends, $H$ has only one linear min-tree with $n-1+1=n$ elements**"
     ]
    },
    {
     "cell_type": "markdown",
     "metadata": {},
     "source": [
      "###22.1-2\n",
      "####Adjacency-List:\n",
      "$1 \\mapsto 2 \\to 3$<br />\n",
      "$2 \\mapsto 1 \\to 4 \\to 5$<br />\n",
      "$3 \\mapsto 1 \\to 6 \\to 7$<br />\n",
      "$4 \\mapsto 2$<br />\n",
      "$5 \\mapsto 2$<br />\n",
      "$6 \\mapsto 3$<br />\n",
      "$7 \\mapsto 3$<br />\n",
      "\n",
      "####Adjacency-Matrix:\n",
      "$\\begin{pmatrix}\n",
      "0 & 1 & 1 & 0 & 0 & 0 & 0\\\\ \n",
      "1 & 0 & 0 & 1 & 1 & 0 & 0\\\\ \n",
      "1 & 0 & 0 & 0 & 0 & 1 & 1\\\\ \n",
      "0 & 1 & 0 & 0 & 0 & 0 & 0\\\\ \n",
      "0 & 1 & 0 & 0 & 0 & 0 & 0\\\\ \n",
      "0 & 0 & 1 & 0 & 0 & 0 & 0\\\\ \n",
      "0 & 0 & 1 & 0 & 0 & 0 & 0\n",
      "\\end{pmatrix}$"
     ]
    },
    {
     "cell_type": "markdown",
     "metadata": {},
     "source": [
      "###22.1-7\n",
      "$(B B^T )_{ij}= \\Sigma_{k=1}^{m}{B_{ik}B^{T}_{kj}} = \\Sigma_{k=1}^{m}{B_{ik}B_{jk}}$ Note that, for given $k$, there are unique $i$ and $j$ of $1$ and $-1$ respectively.<br />\n",
      "Thus, for $i \\neq j$, $$(B B^T )_{ij} = \\Sigma_{k=1}^{m}{B_{ik}B_{jk}} = -(\\text{# of edges connect vertices }i \\text{ and } j)$$\n",
      "And, for $i=j$, $$(B B^T )_{ij} = \\Sigma_{k=1}^{m}{B_{ik}B_{ik}} = (\\text{# of edges starts or ends in vertex }i)$$"
     ]
    },
    {
     "cell_type": "markdown",
     "metadata": {},
     "source": [
      "###22.2-1\n",
      "<style type=\"text/css\">\n",
      ".tg  {border-collapse:collapse;border-spacing:0;}\n",
      ".tg td{font-family:Arial, sans-serif;font-size:14px;padding:10px 5px;border-style:solid;border-width:1px;overflow:hidden;word-break:normal;}\n",
      ".tg th{font-family:Arial, sans-serif;font-size:14px;font-weight:normal;padding:10px 5px;border-style:solid;border-width:1px;overflow:hidden;word-break:normal;}\n",
      ".tg .tg-s6z2{text-align:center}\n",
      "</style>\n",
      "<table class=\"tg\">\n",
      "  <tr>\n",
      "    <th class=\"tg-s6z2\">Vertex</th>\n",
      "    <th class=\"tg-s6z2\">d</th>\n",
      "    <th class=\"tg-s6z2\">$\\pi$</th>\n",
      "  </tr>\n",
      "  <tr>\n",
      "    <td class=\"tg-s6z2\">$1$</td>\n",
      "    <td class=\"tg-s6z2\">$\\infty$</td>\n",
      "    <td class=\"tg-s6z2\">NIL</td>\n",
      "  </tr>\n",
      "  <tr>\n",
      "    <td class=\"tg-s6z2\">$2$</td>\n",
      "    <td class=\"tg-s6z2\">$3$</td>\n",
      "    <td class=\"tg-s6z2\">$4$</td>\n",
      "  </tr>\n",
      "  <tr>\n",
      "    <td class=\"tg-s6z2\">$3$</td>\n",
      "    <td class=\"tg-s6z2\">$0$</td>\n",
      "    <td class=\"tg-s6z2\">NIL</td>\n",
      "  </tr>\n",
      "  <tr>\n",
      "    <td class=\"tg-s6z2\">$4$</td>\n",
      "    <td class=\"tg-s6z2\">$2$</td>\n",
      "    <td class=\"tg-s6z2\">$5$</td>\n",
      "  </tr>\n",
      "  <tr>\n",
      "    <td class=\"tg-s6z2\">$5$</td>\n",
      "    <td class=\"tg-s6z2\">$1$</td>\n",
      "    <td class=\"tg-s6z2\">$3$</td>\n",
      "  </tr>\n",
      "  <tr>\n",
      "    <td class=\"tg-s6z2\">$6$</td>\n",
      "    <td class=\"tg-s6z2\">$1$</td>\n",
      "    <td class=\"tg-s6z2\">3</td>\n",
      "  </tr>\n",
      "</table>"
     ]
    },
    {
     "cell_type": "markdown",
     "metadata": {},
     "source": [
      "###22.2-8\n",
      "Since if $u$ and $v$ are satisfying $\\delta(u, v)$ equals to diameter of tree $T = (V, E)$, then both $u$ and $v$ are leaves, and there is only one path connecting $u$ and $v$. So we have the relation<br />\n",
      "$\\text{diameter of } T = \\max_{u, v \\in V}{\\delta(u, v)}$<br />\n",
      "$= \\max_{v \\in V}{ [(1^\\text{st}\\text{ highest height of }v\\text{'s subtree}) + (2^\\text{nd}\\text{ highest height of }v\\text{'s subtree})] }$\n",
      "\n",
      "####<u>Design</u>:<br />\n",
      "Current_Max $:=$ $0$<br />\n",
      "Tree-Diameter($T$):<br />\n",
      "&emsp;&emsp;Evaluate-Height($T$, $T$.root)<br />\n",
      "&emsp;&emsp;return Current_Max<br />\n",
      "\n",
      "Evaluate-Height($T$, $r$):<br />\n",
      "&emsp;&emsp;if $r$ has no children, then return $0$<br />\n",
      "\n",
      "&emsp;&emsp;let $H$ be new array, and its size equals to number of children of $r$<br />\n",
      "&emsp;&emsp;for $v \\in \\{ \\text{children of }r \\}$<br />\n",
      "&emsp;&emsp;&emsp;&emsp;$H[v] := $ Evaluate-Height($T$, $v$) $+$ $1$<br />\n",
      "\n",
      "&emsp;&emsp;$h_1 := \\max H$<br />\n",
      "&emsp;&emsp;if $|H| > 1$:<br />\n",
      "&emsp;&emsp;&emsp;&emsp;$ h_2 := \\max (H - \\{h_1\\})$<br />\n",
      "&emsp;&emsp;else:<br />\n",
      "&emsp;&emsp;&emsp;&emsp;$h_2 := 0$<br />\n",
      "\n",
      "&emsp;&emsp;if $h_1 + h_2 >$ Current_Max:<br />\n",
      "&emsp;&emsp;&emsp;&emsp;Current_Max $:= h_1 + h_2$\n",
      "\n",
      "&emsp;&emsp;return $h_1$\n",
      "\n",
      "####<u>Analysis</u>:\n",
      "The algorithm traveals entire tree, visits  and allocates memory for storing height of each node once. $\\implies$ The time complexity is $O(|V|)$."
     ]
    },
    {
     "cell_type": "markdown",
     "metadata": {},
     "source": [
      "###Read 10.2,3,4\n",
      "Done."
     ]
    }
   ],
   "metadata": {}
  }
 ]
}