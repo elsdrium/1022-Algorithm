{
 "metadata": {
  "name": "",
  "signature": "sha256:0a73ca15645dd5f416851809ef72de1dc22336999041b334779c06ba497368ff"
 },
 "nbformat": 3,
 "nbformat_minor": 0,
 "worksheets": [
  {
   "cells": [
    {
     "cell_type": "heading",
     "level": 3,
     "metadata": {},
     "source": [
      "22.3-2"
     ]
    },
    {
     "cell_type": "markdown",
     "metadata": {},
     "source": [
      "<img src='http://ipicbox.tw/photo/g/834997/IHMQTJDF7KL3.jpg' />"
     ]
    },
    {
     "cell_type": "heading",
     "level": 3,
     "metadata": {},
     "source": [
      "22.3-3"
     ]
    },
    {
     "cell_type": "markdown",
     "metadata": {},
     "source": [
      "$(u$ $(v$ $(y$ $(x$ $x)$ $y)$ $v)$ $u)$ $(w$ $(z$ $z)$ $w)$"
     ]
    },
    {
     "cell_type": "heading",
     "level": 3,
     "metadata": {},
     "source": [
      "22.4-3"
     ]
    },
    {
     "cell_type": "markdown",
     "metadata": {},
     "source": [
      "####<u>Design</u>:\n",
      "<b>Algorithm</b>($G$):<br />\n",
      "&emsp;&emsp;for each vertex $u \\in G$.$V$:<br />\n",
      "&emsp;&emsp;&emsp;&emsp;$u.$color $:=$ WHITE<br />\n",
      "&emsp;&emsp;&emsp;&emsp;$u$.$\\pi := $ NIL<br />\n",
      "\n",
      "&emsp;&emsp;time $:= 0$<br />\n",
      "&emsp;&emsp;for each $u \\in G$.$V$:<br />\n",
      "&emsp;&emsp;&emsp;&emsp;if $u.$color == WHITE<br />\n",
      "&emsp;&emsp;&emsp;&emsp;&emsp;&emsp;if MODIFIED-DFS-VISIT($u$) == True:<br />\n",
      "&emsp;&emsp;&emsp;&emsp;&emsp;&emsp;&emsp;&emsp;return True<br />\n",
      "&emsp;&emsp;return False\n",
      "\n",
      "\n",
      "<b>MODIFIED-DFS-VISIT</b>($u$):<br />\n",
      "&emsp;&emsp;time $:=$ time $+ 1$<br />\n",
      "&emsp;&emsp;$u$.d $:=$ time<br />\n",
      "&emsp;&emsp;$u$.color $:=$ GRAY<br />\n",
      "&emsp;&emsp;for each $v \\in G$.$Adj[u]$:<br />\n",
      "&emsp;&emsp;&emsp;&emsp;if $v$.color == WHITE<br />\n",
      "&emsp;&emsp;&emsp;&emsp;&emsp;&emsp;$v$.$\\pi := u$<br />\n",
      "&emsp;&emsp;&emsp;&emsp;&emsp;&emsp;if MODIFIED-DFS-VISIT($v$) == True:<br />\n",
      "&emsp;&emsp;&emsp;&emsp;&emsp;&emsp;&emsp;&emsp;return True<br />\n",
      "&emsp;&emsp;&emsp;&emsp;else<br />\n",
      "&emsp;&emsp;&emsp;&emsp;&emsp;&emsp;return True<br />\n",
      "\n",
      "&emsp;&emsp;$u$.color $:=$ BLACK<br />\n",
      "&emsp;&emsp;$u$.$f := $ time $:=$ time $+1$<br />\n",
      "&emsp;&emsp;return False<br />\n",
      "\n",
      "####<u>Analysis</u>:\n",
      "1. Our algorithm visits each node in $V$ at most twice when it returns answer.\n",
      "2. The depth-first tree contains $|V_{\\text{DFS}}| - 1$ edges. When our algorithm terminates, it has gone through at most $|V|$ edges.<br />\n",
      "Hence, the time complexity is $O(|V|)$."
     ]
    },
    {
     "cell_type": "heading",
     "level": 3,
     "metadata": {},
     "source": [
      "22.5-3"
     ]
    },
    {
     "cell_type": "markdown",
     "metadata": {},
     "source": [
      "If so, the second DFS might cross different SCCs.<br />\n",
      "\n",
      "For example, let $C_1$, $C_2$ be two different SCCs with circular shape, we may assume $C_1$.$V = \\{u_1, ... , u_n\\}$ and there exists an edge $(u_k, v)$ satisfying $u_k \\in C_1$, $v \\in C_2$. Assuming that we start the first DFS from $u_{k+2}$ but enter $C_2$ after it visits all nodes in $C_1$.\n",
      "\n",
      "Thus, we have two chain-like depth-first trees $T_1$ and $T_2$ which contain all nodes of $C_1$ and $C_2$, respectively. And it does not pass through $(u_k,v)$. Note that the node with smallest finishing time must be $u_{k+1}$, then the second DFS will start from $u_{k+1}$ and turn in $(u_k,v)$ then get exceed $C_1$ after it goes through $u_k$."
     ]
    },
    {
     "cell_type": "heading",
     "level": 3,
     "metadata": {},
     "source": [
      "22-2"
     ]
    },
    {
     "cell_type": "markdown",
     "metadata": {},
     "source": [
      "####c.\n",
      "####<u>Design</u>:\n",
      "Algorithm($G$, $G_\\pi$):<br />\n",
      "&emsp;&emsp;let $E_r := G$.$E - G_\\pi$.$E_\\pi$<br />\n",
      "&emsp;&emsp;let $G_r := (V, E_r)$<br />\n",
      "&emsp;&emsp;let root $:= G_\\pi$.$V$<br />\n",
      "&emsp;&emsp;root.low $:=$ Visit($G_\\pi$, $E_r$, root)<br />\n",
      "&emsp;&emsp;if root has at least $2$ children:<br />\n",
      "&emsp;&emsp;&emsp;&emsp;output root<br />\n",
      "\n",
      "Visit($G_\\pi$, $G_r$, $v$):<br />\n",
      "&emsp;&emsp;min $:= \\infty$<br />\n",
      "&emsp;&emsp;for each $u \\in G_\\pi$.$Adj[v]$ but $u \\neq v$.$\\pi$:<br />\n",
      "&emsp;&emsp;&emsp;&emsp;temp $:=$ Visit($u$)<br />\n",
      "&emsp;&emsp;&emsp;&emsp;if temp $<$ min:<br />\n",
      "&emsp;&emsp;&emsp;&emsp;&emsp;&emsp;min $:=$ temp<br />\n",
      "&emsp;&emsp;for each $w \\in G_r$.$Adj[v]$:<br />\n",
      "&emsp;&emsp;&emsp;&emsp;if $w$.$d < $ min:<br />\n",
      "&emsp;&emsp;&emsp;&emsp;&emsp;&emsp;min $:= w$.$d$<br />\n",
      "&emsp;&emsp;$v$.low $:= \\min${min, $v$.$d$}<br />\n",
      "&emsp;&emsp;if $v$.$d \\leq v$.low:<br />\n",
      "&emsp;&emsp;&emsp;&emsp;output $v$<br />\n",
      "&emsp;&emsp;return min\n",
      "\n",
      "####<u>Analysis</u>:<br />\n",
      "1. $G$ is connected. $\\implies |V|=O(|E|)$<br />\n",
      "2. Our algorithm goes through each node & edge at most twice. $\\implies O(|E|)$\n",
      "\n",
      "Hence, the time complexity is $O(|E|)$."
     ]
    },
    {
     "cell_type": "markdown",
     "metadata": {},
     "source": [
      "####d.\n",
      "As above. Output all nodes $v$ satisfying $v$.$d$ == $v$.low.<br />\n",
      "Since $G$ is connected. $\\implies$ The complexity is $|V|=O(|E|)$<br />"
     ]
    },
    {
     "cell_type": "markdown",
     "metadata": {},
     "source": [
      "####h.\n",
      "If node $u$ is contained in a BCC, then $u$.low $\\leq u$.$d$ and all other nodes which have the same low value are also contained in this BCC.\n",
      "\n",
      "####<u>Design</u>:\n",
      "<b>Algorithm</b>($G$, $G_\\pi$):<br />\n",
      "&emsp;&emsp;use <b>c.</b> to evaluate all nodes' low value<br />\n",
      "&emsp;&emsp;for each $v \\in V$:<br />\n",
      "&emsp;&emsp;&emsp;&emsp;$v$.bcc := $v$.low<br />\n",
      "\n",
      "####<u>Analysis</u>:\n",
      "1. The algorithm of <b>c.</b> takes $O(|E|)$ time.<br />\n",
      "2. The for-loop takes $O(|V|)$ time.<br />\n",
      "Hence, the time complexity is $O(|E|)$."
     ]
    }
   ],
   "metadata": {}
  }
 ]
}