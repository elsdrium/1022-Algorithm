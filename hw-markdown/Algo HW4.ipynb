{
 "metadata": {
  "name": ""
 },
 "nbformat": 3,
 "nbformat_minor": 0,
 "worksheets": [
  {
   "cells": [
    {
     "cell_type": "markdown",
     "metadata": {},
     "source": [
      "<font size=5>6.1-2</font>"
     ]
    },
    {
     "cell_type": "markdown",
     "metadata": {},
     "source": [
      "The assertion is obvious for heaps with height $0$, so we may assume heaps which we are considering have height $\\geq 1$. <br />\n",
      "Observe that if there are $m$ nodes in level of height $h-1$, then there are at most $2m$ nodes in level of height $h$. And there is only $1$ node in height $0$ (the root of heap), it decuces that we have $2^h$ nodes in height $h$. Note that any node exists in level of hieght $h$ implies that all levels from $0$ to $h-1$ are full (ie. every node in level of height $< h-1$ has two children). Therefore, a heap with height $h$ has $n = \\sum_{k=0}^{h-1}{2^k} + N_h$ nodes, where $1 \\leq N_h \\leq 2^h$ means number of nodes in level of height $h$. Then we have\n",
      "$$2^h = \\sum_{k=0}^{h-1}{2^k} + 1 \\leq n \\leq \\sum_{k=0}^{h-1}{2^k} + 2^h = 2^{h+1}-1$$\n",
      "This completes the proof."
     ]
    },
    {
     "cell_type": "markdown",
     "metadata": {},
     "source": [
      "<br /><font size=5>6-3</font>"
     ]
    },
    {
     "cell_type": "markdown",
     "metadata": {},
     "source": [
      "<b><font size=3.5>b.</font></b>\n",
      "<br />\n",
      "Let $A[1...m][1...n]$ be a Young tableau as input data. We may assume that $m \\geq 1$ and $n \\geq 1$. As the following algorithm, we can observe that we do $1$ swap in <b>Extract-Min</b>, and call <b>Re-Youngnify</b> with a matrix which is either $A[2...m][1...n]$ or $A[1...m][2...n]$. Since <b>Re-Youngnify</b> is recursive and it does at most $1$ recursive function call, the recursive relation of <b>Re-Youngnify</b>'s time consumption is either $T(m, n) = \\Theta(1) + T(m-1,n)$ or $T(m, n) = \\Theta(1) + T(m,n-1)$. It's not difficult to see <b>Re-Youngnify</b> has $O(m+n)$ time complexity and hence <b>Extract-Min</b> also.<br />\n",
      "<br />\n",
      "<b>Extract-Min($A$, $m$, $n$):</b><br />\n",
      "&emsp;&emsp;min = $A[1][1]$<br />\n",
      "&emsp;&emsp;$A[1][1] = \\infty$<br />\n",
      "<br />\n",
      "&emsp;&emsp;<font color=gray><i>// Check $m>1$ for avoiding illegal access</i></font><br />\n",
      "&emsp;&emsp;if $m > 1$: <br />\n",
      "&emsp;&emsp;&emsp;&emsp;<font color=gray><i>// Check $n>1$ for avoiding illegal access</i></font><br />\n",
      "&emsp;&emsp;&emsp;&emsp;if $n > 1$: <br />\n",
      "&emsp;&emsp;&emsp;&emsp;&emsp;&emsp;if $A[1][2] < A[2][1]$:<br />\n",
      "&emsp;&emsp;&emsp;&emsp;&emsp;&emsp;&emsp;&emsp;swap $A[1][2]$, $A[1][1]$<br />\n",
      "&emsp;&emsp;&emsp;&emsp;&emsp;&emsp;&emsp;&emsp;<b>Re-Youngnify</b>( $A$, $1$, $m$, $2$, $n$ )<br />\n",
      "&emsp;&emsp;&emsp;&emsp;else:<br />\n",
      "&emsp;&emsp;&emsp;&emsp;&emsp;&emsp;swap $A[2][1]$, $A[1][1]$<br />\n",
      "&emsp;&emsp;&emsp;&emsp;&emsp;&emsp;<b>Re-Youngnify</b>( $A$, $2$, $m$, $1$, $n$ )<br />\n",
      "&emsp;&emsp;else:<br />\n",
      "&emsp;&emsp;&emsp;&emsp;<font color=gray><i>// Check $n>1$ for avoiding illegal access</i></font><br />\n",
      "&emsp;&emsp;&emsp;&emsp;if $n > 1$: <br />\n",
      "&emsp;&emsp;&emsp;&emsp;&emsp;&emsp;swap $A[1][2]$, $A[1][1]$<br />\n",
      "&emsp;&emsp;&emsp;&emsp;&emsp;&emsp;<b>Re-Youngnify</b>( $A$, $1$, $m$, $2$, $n$ )<br />\n",
      "&emsp;&emsp;return min<br />\n",
      "\n",
      "<font color=gray><i>// Input data is $A[p_1...r_1][p_2...r_2]$</i></font><br />\n",
      "<b>Re-Youngnify($A$, $p_1$, $r_1$, $p_2$, $r_2$):</b><br />\n",
      "&emsp;&emsp;<font color=gray><i>// Check range</i></font><br />\n",
      "&emsp;&emsp;if $p_1 < r_1$: <br />\n",
      "&emsp;&emsp;&emsp;&emsp;if $A[p_1+1][p_2] < A[p_1][p_2]$:<br />\n",
      "&emsp;&emsp;&emsp;&emsp;&emsp;&emsp;<font color=gray><i>// Check range</i></font><br />\n",
      "&emsp;&emsp;&emsp;&emsp;&emsp;&emsp;if $p_2 < r_2$: <br />\n",
      "&emsp;&emsp;&emsp;&emsp;&emsp;&emsp;&emsp;&emsp;if $A[p_1][p_2+1] < A[p_1+1][p_2]$:<br />\n",
      "&emsp;&emsp;&emsp;&emsp;&emsp;&emsp;&emsp;&emsp;&emsp;&emsp;swap $A[p_1][p_2+1]$, $A[p_1][p_2]$<br />\n",
      "&emsp;&emsp;&emsp;&emsp;&emsp;&emsp;&emsp;&emsp;&emsp;&emsp;<b>Re-Youngnify</b>( $A$, $p_1$, $r_1$, $p_2+1$, $r_2$ )<br />\n",
      "&emsp;&emsp;&emsp;&emsp;&emsp;&emsp;else:<br />\n",
      "&emsp;&emsp;&emsp;&emsp;&emsp;&emsp;&emsp;&emsp;swap $A[p_1+1][p_2]$, $A[p_1][p_2]$<br />\n",
      "&emsp;&emsp;&emsp;&emsp;&emsp;&emsp;&emsp;&emsp;<b>Re-Youngnify</b>( $A$, $p_1+1$, $r_1$, $p_2$, $r_2$ )<br />\n",
      "&emsp;&emsp;else:<br />\n",
      "&emsp;&emsp;&emsp;&emsp;<font color=gray><i>// Check range</i></font><br />\n",
      "&emsp;&emsp;&emsp;&emsp;if $p_2 < r_2$: <br />\n",
      "&emsp;&emsp;&emsp;&emsp;&emsp;&emsp;if $A[p_1][p_2+1] < A[p_1][p_2]$:<br />\n",
      "&emsp;&emsp;&emsp;&emsp;&emsp;&emsp;&emsp;&emsp;swap $A[p_1][p_2+1]$, $A[p_1][p_2]$<br />\n",
      "&emsp;&emsp;&emsp;&emsp;&emsp;&emsp;&emsp;&emsp;<b>Re-Youngnify</b>( $A$, $p_1$, $r_1$, $p_2+1$, $r_2$ )<br />"
     ]
    },
    {
     "cell_type": "markdown",
     "metadata": {},
     "source": [
      "<b><font size=3.5>e.</font></b><br />\n",
      "As our analysis in <b>b.</b> , we can extract the minimal value in $O(m+n)$ time from a $m \\times n$ Young's tableau. So, for a $n \\times n$ Young's tableau, we can do $n^2$ times extraction in $O( n^2 \\cdot (n+n) ) = O(n^3)$ time to get a sorted sequence."
     ]
    },
    {
     "cell_type": "markdown",
     "metadata": {},
     "source": [
      "<br /><font size=5>7.4-2</font>"
     ]
    },
    {
     "cell_type": "markdown",
     "metadata": {},
     "source": [
      "Observe that the recursive relation of quicksort's time consumption is $T(n) = \\Theta(n) + T(n_1) + T(n_2)$ with $n = n_1 + n_2 + 1$, where $\\Theta(n)$ term denotes the partition operation. To obtain the best case, it's not difficult to see that the recurrence tree has minimal height with $n_1$, $n_2$ are exactly about $\\frac{n}{2}$, ie. $T(n) = \\Theta(n) + 2T(\\frac{n}{2})$. Therefore, by Master Theorem, we have $T(n) = \\Theta(n \\lg{n})$, hence $T(n) = \\Omega(n \\lg{n})$."
     ]
    },
    {
     "cell_type": "markdown",
     "metadata": {},
     "source": [
      "<br /><font size=5>7-1</font>"
     ]
    },
    {
     "cell_type": "markdown",
     "metadata": {},
     "source": [
      "<b><font size=3.5>a.</font></b><br />\n",
      "<b>When HOARE-PARTITION starts:</b><br />\n",
      "$x = 13$<br />\n",
      "$i = 0$<br />\n",
      "$j = 13$<br />\n",
      "$A = [13, 19, 9, 5, 12, 8, 7, 4, 11, 2, 6, 21]$<br /><br />\n",
      "\n",
      "<b>When iteration 1 terminates:</b><br />\n",
      "$x = 13$<br />\n",
      "$i = 1$<br />\n",
      "$j = 11$<br />\n",
      "$A = [6, 19, 9, 5, 12, 8, 7, 4, 11, 2, 13, 21]$<br /><br />\n",
      "\n",
      "<b>When iteration 2 terminates:</b><br />\n",
      "$x = 13$<br />\n",
      "$i = 2$<br />\n",
      "$j = 10$<br />\n",
      "$A = [6, 2, 9, 5, 12, 8, 7, 4, 11, 19, 13, 21]$<br /><br />\n",
      "\n",
      "<b>When iteration 3 terminates:</b><br />\n",
      "$x = 13$<br />\n",
      "$i = 10$<br />\n",
      "$j = 9$<br />\n",
      "$A = [6, 2, 9, 5, 12, 8, 7, 4, 11, 19, 13, 21]$<br />\n",
      "Then the comparison $i<j$ gets FALSE and HOARE-PARTITION return 9."
     ]
    },
    {
     "cell_type": "markdown",
     "metadata": {},
     "source": [
      "<b><font size=3.5>b.</font></b><br />\n",
      "Variable $i$ starts from $p-1$ and be imposed at least $1$ time increment operation before we do access $A[i]$, so we will never access $A$ with index $i < p$. And, variable $j$ starts from $r+1$ and be imposed at least $1$ time decrement operation before we do access $A[j]$, so we will never access $A$ with index $j > r$. On the other hand, when $i \\geq j$, HOARE-PARTITION terminates. If $i$ == $j$, then we get $i \\leq r$ and $j \\geq p$.\n",
      "\n",
      "To complete the proof, observe that <i>(to get clearer explanation, see Initialization and Maintenance parts in <b>d.</b>)</i> there are at least $1$ time decrement operation being imposed on $j$ and $x < A[k]$ for $j+1 \\leq k \\leq r$, in every loop iteration(loop in lines 4-13). Similarly, there are at least $1$ time increment operation being imposed on $i$ and $A[k] < x$ for $p \\leq k \\leq i-1$, in every loop iteration(loop in lines 4-13).\n",
      "\n",
      "If $i > r$ occurs, we must have $j$ == $r$ (since $i > r \\implies A[r] < x$ and $j < r \\implies A[r] \\geq x$, but they are mutually exclusive), that implies current iteration is the first iteration. But the assignment $x = A[p]$ before loop starts will lead a contradiction. Therefore, we must have $i \\leq r$.\n",
      "\n",
      "On the other hand, if $j < p$ occurs, we must have $i$ == $p$ (since $j < p \\implies A[p] > x$ and $i > p \\implies A[p] \\leq x$, but they are mutually exclusive), that implies current iteration is the first iteration. But the assignment $x = A[p]$ before loop starts will lead a contradiction. Therefore, we must have $j \\geq p$."
     ]
    },
    {
     "cell_type": "markdown",
     "metadata": {},
     "source": [
      "<b><font size=3.5>c.</font></b><br />\n",
      "As we have discussed in <b>b.</b> , we already have $p \\leq i, j \\leq r$, so the only part need to be proved is $j \\neq r$. <br />\n",
      "Assuming the return value $j$ is equal to $r$, it implies $i \\geq j$ in the final iteration (of loop in lines 4-13), hence $A[p]< x $ and $i$ == $r$. But $A[p] < x$ means the content at index $p$ had been modified and the current iteration (of loop in lines 4-13) is not the first iteration. Since every iteration (of loop in lines 4-13) impose at least $1$ time decrement operation on $j$, we must have $j < r$ and a contradiction occurs. This completes the proof."
     ]
    },
    {
     "cell_type": "markdown",
     "metadata": {},
     "source": [
      "<b><font size=3.5>d.</font></b><br />\n",
      "We use loop invariant to prove the assertion.<br />\n",
      "\n",
      "<b>Loop Invariant</b> (loop in lines 4-13):<br />\n",
      "At the start of each loop iteration, $A[k] \\leq x$ for $p \\leq k \\leq i$ and $x \\leq A[k]$ for $j \\leq k \\leq r$. &emsp;$(*)$<br />\n",
      "\n",
      "<b>Initialization</b>:<br />\n",
      "When the first iteration starts, $(*)$ holds obviously since $A[p...i]$ and $A[j...r]$ are empty.\n",
      "<br />\n",
      "\n",
      "<b>Maintenance</b>:<br />\n",
      "Let variable $i$ == $i'$, variable $j$ == $j'$ and $(*)$ holds for value $i'$, $j'$ when current iteration starts. (Be careful with the meaning difference between <b>variable $i$, $j$</b> and <b>value of $i$, $j$</b>)\n",
      "Considering the evolution of variable $i$ and the evolution of variable $j$. Variable $i$'s incremental process get paused when $A[i] \\geq x$; variable $j$'s decremental process get paused when $A[j] \\leq x$. So far, $A[k] \\leq x$ for $p \\leq k \\leq i-1$ and $x \\leq A[k]$ for $j+1 \\leq k \\leq r$ (ie. $(*)$ holds for $i-1$, $j+1$). If $i \\geq j$, then HOARE-PARTITION terminates. If $i < j$, then swap operation occurs and $(*)$ holds for current value of $i$, $j$ after swap operation.\n",
      "<br />\n",
      "\n",
      "<b>Termination</b>:<br />\n",
      "When the loop terminates, we have $i \\geq j$. <br />\n",
      "In case of $i > j$, $(*)$ holds for $i-1$, $j+1$ and the assertion follows.\n",
      "In case of $i$ == $j$, $(*)$ holds for $i-1$, $j+1$, combining this with $A[i]$ == $A[j] \\leq x$ will complete the proof. <br />"
     ]
    },
    {
     "cell_type": "markdown",
     "metadata": {},
     "source": [
      "<br />"
     ]
    }
   ],
   "metadata": {}
  }
 ]
}