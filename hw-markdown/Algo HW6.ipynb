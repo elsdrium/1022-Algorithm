{
 "metadata": {
  "name": "",
  "signature": "sha256:811b74f30425d18129f43ef25e1fd79428e6dca21a5e9b04228ca4b760fb08aa"
 },
 "nbformat": 3,
 "nbformat_minor": 0,
 "worksheets": [
  {
   "cells": [
    {
     "cell_type": "markdown",
     "metadata": {},
     "source": [
      "<font size=5>15.2-1</font>"
     ]
    },
    {
     "cell_type": "markdown",
     "metadata": {},
     "source": [
      "$A_1 : 5 \\times 10$, <br />\n",
      "$A_2 : 10 \\times 3$, <br />\n",
      "$A_3 : 3 \\times 12$, <br />\n",
      "$A_4 : 12 \\times 5$, <br />\n",
      "$A_5 : 5 \\times 50$, <br />\n",
      "$A_6 : 50 \\times 6$.<br />\n",
      "Then an optimal parenthesization is $((A_1 A_2)((A_3 A_4)(A_5 A_6)))$."
     ]
    },
    {
     "cell_type": "markdown",
     "metadata": {},
     "source": [
      "<br /><font size=5>15.4-1</font>"
     ]
    },
    {
     "cell_type": "markdown",
     "metadata": {},
     "source": [
      "$X = [1,0,0,1,0,1,0,1]$<br />\n",
      "$Y = [0,1,0,1,1,0,1,1,0]$<br />\n",
      "$LCS = [1,0,0,1,1,0]$"
     ]
    },
    {
     "cell_type": "markdown",
     "metadata": {},
     "source": [
      "<br /><font size=5>15.4-3</font>"
     ]
    },
    {
     "cell_type": "markdown",
     "metadata": {},
     "source": [
      "<b><font size=3>Algorithm</font></b>:<br />\n",
      "<b>LCS-Length</b>($X$, $Y$):<br />\n",
      "&emsp;&emsp;$m := X.length$<br />\n",
      "&emsp;&emsp;$n := Y.length$<br />\n",
      "&emsp;&emsp;let $c[0 ... m][0 ... n]$ be new table<br />\n",
      "\n",
      "&emsp;&emsp;for $i$ from $0$ to $m$:<br />\n",
      "&emsp;&emsp;&emsp;&emsp;$c[i][0] := 0$<br />\n",
      "\n",
      "&emsp;&emsp;for $j$ from $0$ to $n$:<br />\n",
      "&emsp;&emsp;&emsp;&emsp;$c[0][j] := 0$<br />\n",
      "\n",
      "&emsp;&emsp;for $i$ from $1$ to $m$:<br />\n",
      "&emsp;&emsp;&emsp;&emsp;for $j$ from $1$ to $n$:<br />\n",
      "&emsp;&emsp;&emsp;&emsp;&emsp;&emsp;$c[i][j] := - \\infty$<br />\n",
      "    \n",
      "&emsp;&emsp;Return Maintain-Table($X$, $Y$, $c$, $m$, $n$)<br />\n",
      "\n",
      "<br />\n",
      "<b>Maintain-Table</b>($X$, $Y$, $c$, $i$, $j$):<br />\n",
      "&emsp;&emsp;if $i$ == $0$ or $j$ == $0$:<br />\n",
      "&emsp;&emsp;&emsp;&emsp;Return $0$<br />\n",
      "\n",
      "&emsp;&emsp;if $c[i-1][j]$ == $- \\infty$:<br />\n",
      "&emsp;&emsp;&emsp;&emsp;$c[i-1][j] :=$ Maintain-Table($X$, $Y$, $c$, $i-1$, $j$)<br />\n",
      "\n",
      "&emsp;&emsp;if $c[i][j-1]$ == $- \\infty$:<br />\n",
      "&emsp;&emsp;&emsp;&emsp;$c[i][j-1] :=$ Maintain-Table($X$, $Y$, $c$, $i$, $j-1$)<br />\n",
      "\n",
      "&emsp;&emsp;if $c[i-1][j-1]$ == $- \\infty$:<br />\n",
      "&emsp;&emsp;&emsp;&emsp;$c[i-1][j-1] :=$ Maintain-Table($X$, $Y$, $c$, $i-1$, $j-1$)<br />\n",
      "\n",
      "&emsp;&emsp;if $X[i]$ == $Y[j]$:<br />\n",
      "&emsp;&emsp;&emsp;&emsp;Return $c[i-1][j-1] + 1$<br />\n",
      "&emsp;&emsp;else:<br />\n",
      "&emsp;&emsp;&emsp;&emsp;Return $\\max( c[i-1][j], c[i][j-1] )$<br />\n"
     ]
    },
    {
     "cell_type": "markdown",
     "metadata": {},
     "source": [
      "<b><font size=3>Analysis</font></b>:<br />\n",
      "Firstly, observe that <b>LCS-Length</b> contains two for-loops with $O(m)$, $O(n)$ time complexity and one nested for-loop with $O(mn)$ time complexity. Next, with the boundary condition, it's not difficult to see that the recursive times of <b>Maintain-Table</b> will not exceed the size of table $c$, ie. $(m+1)(n+1)$. And <b>Maintain-Table</b> consumes $O(1)$ execution time except recursive function call. Hence, the initial call of <b>Maintain-Table</b> consumes $O(mn)$ execution time, thus <b>LCS-Length</b>'s time complexity is $O(mn) + O(mn) = O(mn)$."
     ]
    },
    {
     "cell_type": "markdown",
     "metadata": {},
     "source": [
      "<br /><font size=5>15.4-5</font>"
     ]
    },
    {
     "cell_type": "markdown",
     "metadata": {},
     "source": [
      "<b><font size=3>Design</font></b>:<br />\n",
      "<b>LIS</b>($A$):<br />\n",
      "&emsp;&emsp;$n := A.length$<br />\n",
      "&emsp;&emsp;let $d[1 ... n]$, $b[1 ... n]$ be new arrays<br />\n",
      "&emsp;&emsp;$m := 0$<br />\n",
      "\n",
      "&emsp;&emsp;for $i$ from $1$ to $n$:<br />\n",
      "&emsp;&emsp;&emsp;&emsp;$d[i] := 1$<br />\n",
      "&emsp;&emsp;&emsp;&emsp;$b[i] := -1$<br />\n",
      "        \n",
      "&emsp;&emsp;for $i$ from $1$ to $n$:<br />\n",
      "&emsp;&emsp;&emsp;&emsp;for $j$ from $1$ to $i-1$:<br />\n",
      "&emsp;&emsp;&emsp;&emsp;&emsp;&emsp;if $A[j] < A[i]$ and $d[j] >= d[i]$:<br />\n",
      "&emsp;&emsp;&emsp;&emsp;&emsp;&emsp;&emsp;&emsp;$d[i] := d[j] + 1$<br />\n",
      "&emsp;&emsp;&emsp;&emsp;&emsp;&emsp;&emsp;&emsp;$b[i] := j$<br />\n",
      "&emsp;&emsp;&emsp;&emsp;&emsp;&emsp;&emsp;&emsp;if $d[i] > d[m]$:<br />\n",
      "&emsp;&emsp;&emsp;&emsp;&emsp;&emsp;&emsp;&emsp;&emsp;&emsp;$m := i$<br />\n",
      "\n",
      "&emsp;&emsp;let $r[1 ... d[m]]$ be new array<br />\n",
      "&emsp;&emsp;$i := d[m]$<br />\n",
      "&emsp;&emsp;while $m != -1$:<br />\n",
      "&emsp;&emsp;&emsp;&emsp;$r[i] := A[m]$<br />\n",
      "&emsp;&emsp;&emsp;&emsp;$m := b[m]$<br />\n",
      "&emsp;&emsp;&emsp;&emsp;$i := i - 1$<br />\n",
      "\n",
      "&emsp;&emsp;Return r<br />\n"
     ]
    },
    {
     "cell_type": "markdown",
     "metadata": {},
     "source": [
      "<b><font size=3>Correctness</font></b>:<br />\n",
      "First of all, we are gonna prove that $d[i]$ maintains the longest length of increasing subsequence(LIS) ended at $i$. $(*)$ <br />\n",
      "It suffices to see the nested for-loop, and we will use loop invariant to prove it.\n",
      "\n",
      "<b>Loop Invariant</b> (for the outer for-loop of the nested for-loop):<br />\n",
      "At the start of $i$-th iteration, $(*)$ holds for all $k < i$.\n",
      "\n",
      "<b>Initialization</b>:<br />\n",
      "When the first iteration starts, $d[1 ... k-1]$ is empty. The loop invariant is true obviously.\n",
      "\n",
      "<b>Maintenance</b>:<br />\n",
      "Suppose the loop invariant is true when $i$-th iteration starts. Observe that, if the LIS ended at some $k < i$ and has length $d[k]$, then the LIS ended at $i$ must be the LIS ended at some $k$ appending $A[i]$ and have length $d[k]+1$. So the inner for-loop guarantees $(*)$ holds for $i$, then the loop invariant is true when $(i+1)$-th iteration of outer for-loop starts. Note that if the conditional statement is not triggered for all $1 \\leq j \\leq i-1$, then $d[i]$ keeps the default value $1$ does make sense.\n",
      "\n",
      "<b>Termination</b>:<br />\n",
      "As our discussion in <b>Maintenance</b> part, $(*)$ holds for $i$ == $n$ when the final iteration ends up. Therefore, the loop invariant makes $(*)$ holds for all $1 \\leq i \\leq n$.\n",
      "\n",
      "When $(*)$ is proved, $b[i]$ maintains the previous term of the LIS ended at $i$ is clear. And $m$ indicates the end index of the LIS till now is also clear. Then, it's not difficult to realize the construction of LIS in the while-loop."
     ]
    },
    {
     "cell_type": "markdown",
     "metadata": {},
     "source": [
      "<b><font size=3>Analysis</font></b>:<br />\n",
      "All non-constant time operation:<br />\n",
      "&emsp;Construction of $d$ and $b$: $O(n)$<br />\n",
      "&emsp;First for-loop: $O(n)$<br />\n",
      "&emsp;Second for-loop: Since $i \\leq n$, the inner for-loop is of $O(n)$, then the nested for-loop is $O(n^2)$<br />\n",
      "&emsp;Construction of $r$: $O(n)$ (because $d[m] \\leq n$)<br />\n",
      "&emsp;While-loop: $O(n)$ (because $i$ == $0$ $\\iff$ $m$ == $-1$)<br />\n",
      "\n",
      "Hence, the time complexity of <b>LIS</b> is $O(n^2)$."
     ]
    },
    {
     "cell_type": "markdown",
     "metadata": {},
     "source": [
      "<br /><font size=5>15.5-1</font>"
     ]
    },
    {
     "cell_type": "markdown",
     "metadata": {},
     "source": [
      "Given $n$ and table $root$.\n",
      "\n",
      "<b>Construct-Optimal-BST</b>($root$):<br />\n",
      "&emsp;&emsp;$r := root[1][n]$<br />\n",
      "&emsp;&emsp;print( 'k' + $r$ + ' is the root' )<br />\n",
      "&emsp;&emsp;Construct-Optimal-SubBST($root$, $1$, $r-1$, 'left', $r$)<br />\n",
      "&emsp;&emsp;Construct-Optimal-SubBST($root$, $r+1$, $n$, 'right', $r$)<br />\n",
      "\n",
      "<br />\n",
      "<b>Construct-Optimal-SubBST</b>($root$, $i$, $j$, $direction$, $parent$):<br />\n",
      "&emsp;&emsp;if $i \\leq j$:<br />\n",
      "&emsp;&emsp;&emsp;&emsp;$r := root[i][j]$<br />\n",
      "&emsp;&emsp;&emsp;&emsp;print( 'k' + $r$ + ' is the ' + direction + ' child of k' + $parent$ )<br />\n",
      "&emsp;&emsp;&emsp;&emsp;Construct-Optimal-SubBST($root$, $i$, $r-1$, 'left', $r$)<br />\n",
      "&emsp;&emsp;&emsp;&emsp;Construct-Optimal-SubBST($root$, $r+1$, $j$, 'right', $r$)<br />\n",
      "&emsp;&emsp;else:<br />\n",
      "&emsp;&emsp;&emsp;&emsp;if $direction$ == 'left':<br />\n",
      "&emsp;&emsp;&emsp;&emsp;&emsp;&emsp;print( 'd' + $(parent-1)$ + ' is the left child of k' + $parent$ )<br />\n",
      "&emsp;&emsp;&emsp;&emsp;else:<br />\n",
      "&emsp;&emsp;&emsp;&emsp;&emsp;&emsp;print( 'd' + $parent$ + ' is the right child of k' + $parent$ )<br />\n"
     ]
    },
    {
     "cell_type": "markdown",
     "metadata": {},
     "source": [
      "<br />"
     ]
    }
   ],
   "metadata": {}
  }
 ]
}