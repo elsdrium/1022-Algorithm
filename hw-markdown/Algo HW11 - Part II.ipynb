{
 "metadata": {
  "name": "",
  "signature": "sha256:fb32189c9859a01bc9371cdf5d176b0b5b95394ff9c9490038f0f3226c5ed4b2"
 },
 "nbformat": 3,
 "nbformat_minor": 0,
 "worksheets": [
  {
   "cells": [
    {
     "cell_type": "heading",
     "level": 3,
     "metadata": {},
     "source": [
      "SUBSET SUM"
     ]
    },
    {
     "cell_type": "markdown",
     "metadata": {},
     "source": [
      "Algorithm($S[1 ... m]$, $N$):<br />\n",
      "&emsp;&emsp;if $N$ == $0$:<br />\n",
      "&emsp;&emsp;&emsp;&emsp;return Yes<br />\n",
      "\n",
      "&emsp;&emsp;if $N < 0$ or $S$ is empty:<br />\n",
      "&emsp;&emsp;&emsp;&emsp;return No<br />\n",
      "\n",
      "&emsp;&emsp;for $i$ from $1$ to $m$:<br />\n",
      "&emsp;&emsp;&emsp;&emsp;if Algorithm($S[1 ... m] - S[i]$, $N - S[i]$) returns Yes:<br />\n",
      "&emsp;&emsp;&emsp;&emsp;&emsp;&emsp;output $S[i]$<br />\n",
      "&emsp;&emsp;&emsp;&emsp;&emsp;&emsp;return Yes<br />\n",
      "\n",
      "&emsp;&emsp;return No<br />\n",
      "\n",
      "Algorithm($S[1 ... n]$, $B$)"
     ]
    },
    {
     "cell_type": "heading",
     "level": 3,
     "metadata": {},
     "source": [
      "HAMILTONIAN PATH"
     ]
    },
    {
     "cell_type": "markdown",
     "metadata": {},
     "source": [
      "Algorithm($G$):<br />\n",
      "choose any vertex $v \\in G.V$ as start<br />\n",
      "return Hamilton-Visit($G$, $v$)<br />\n",
      "\n",
      "Hamilton-Visit($G$, $v$):<br />\n",
      "&emsp;&emsp;if count($V$.visited) == $|V|$:<br />\n",
      "&emsp;&emsp;&emsp;&emsp;return Yes<br />\n",
      "&emsp;&emsp;for each $u \\in Adj[v]$ and $u.visited$ == False:<br />\n",
      "&emsp;&emsp;&emsp;&emsp;$u$.visited $:=$ True<br />\n",
      "&emsp;&emsp;&emsp;&emsp;if Hamilton-Visit($G$, $u$) returns Yes:<br />\n",
      "&emsp;&emsp;&emsp;&emsp;&emsp;&emsp;return Yes<br />\n",
      "&emsp;&emsp;return No<br />\n"
     ]
    },
    {
     "cell_type": "heading",
     "level": 3,
     "metadata": {},
     "source": [
      "DOMINATING SET"
     ]
    },
    {
     "cell_type": "markdown",
     "metadata": {},
     "source": [
      "Algorithm($G$, $K$, $S$):<br />\n",
      "&emsp;&emsp;if Check-Dominating($G$, $K$, $S$):<br />\n",
      "&emsp;&emsp;&emsp;&emsp;return Yes<br />\n",
      "&emsp;&emsp;for each $v \\in (G.V - S)$:<br />\n",
      "&emsp;&emsp;&emsp;&emsp;if Algorithm($G$, $K$, $S \\cup \\{ v \\}$) returns Yes:<br />\n",
      "&emsp;&emsp;&emsp;&emsp;&emsp;&emsp;return Yes<br />\n",
      "&emsp;&emsp;return No\n",
      "\n",
      "Check-Dominating($G$, $K$, $S$):<br />\n",
      "&emsp;&emsp;if $|S| > K$:<br />\n",
      "&emsp;&emsp;&emsp;&emsp;return False<br />\n",
      "\n",
      "&emsp;&emsp;for each $v \\in (G.V - S)$:<br />\n",
      "&emsp;&emsp;&emsp;&emsp;flag $:=$ False<br />\n",
      "&emsp;&emsp;&emsp;&emsp;for each $s \\in S$:<br />\n",
      "&emsp;&emsp;&emsp;&emsp;&emsp;&emsp;if $v \\in Adj[s]$:<br />\n",
      "&emsp;&emsp;&emsp;&emsp;&emsp;&emsp;&emsp;&emsp;flag $:=$ True<br />\n",
      "&emsp;&emsp;&emsp;&emsp;&emsp;&emsp;&emsp;&emsp;break<br />\n",
      "&emsp;&emsp;&emsp;&emsp;if flag is False:<br />\n",
      "&emsp;&emsp;&emsp;&emsp;&emsp;&emsp;return False<br />\n",
      "&emsp;&emsp;return True\n",
      "\n",
      "Algorithm($G$, $K$, $\\phi$)<br />"
     ]
    }
   ],
   "metadata": {}
  }
 ]
}