{
 "metadata": {
  "name": ""
 },
 "nbformat": 3,
 "nbformat_minor": 0,
 "worksheets": [
  {
   "cells": [
    {
     "cell_type": "markdown",
     "metadata": {},
     "source": [
      "<font size=5>2-2</font>"
     ]
    },
    {
     "cell_type": "markdown",
     "metadata": {},
     "source": [
      "<font size=3.5>a.</font> <br />\n",
      "To complete correctness, we have to claim the set $\\{A^{'}[1], A^{'}[2], ... , A^{'}[n]\\}$ is exactly equal to $\\{A[1], A[2], ... , A[n]\\}$. That is, $A^{'}[1, ...,n]$ consists of the elements originally in $A[1, ...,n]$. It's not difficult to observe since the only modified operation inside nested loop is swapping elements, that guarantees our claim."
     ]
    },
    {
     "cell_type": "markdown",
     "metadata": {},
     "source": [
      "<font size=3.5>b.</font><br />\n",
      "<b>Loop Invariant</b> (for-loop of line 2~4): <br />\n",
      "At the start of each for-loop iteration, $A[j] \\leq A[k]$ for all $j \\leq k \\leq A.length$.   $(*)$\n",
      "<br />\n",
      "\n",
      "<b>Initialization</b>: <br />\n",
      "In the first iteration of for-loop, we have $j = A.length$, and that $A[j] \\leq A[k]$ for all $A.length \\leq k \\leq A.length$ is clear.\n",
      "<br />\n",
      "\n",
      "<b>Maintenance</b>: <br />\n",
      "Suppose $(*)$ is true for some $j$. If $A[j-1] \\leq A[j]$ doesn't hold, the swapping operation will make the inequality hold through swapping $A[j]$ and $A[j-1]$. Therefore $(*)$ holds for $j-1$ after this iteration.\n",
      "<br />\n",
      "\n",
      "<b>Termination</b>: <br />\n",
      "When the for-loop terminates, we have $j=i+1$ and $(*)$ holds for $j-1$ after the final iteration. Hence, $A[i] \\leq A[k]$ for all $i \\leq k \\leq A.length$."
     ]
    },
    {
     "cell_type": "markdown",
     "metadata": {},
     "source": [
      "<font size=3.5>c.</font> <br />\n",
      "<b>Loop Invariant</b> (for-loop of line 1~4): <br />\n",
      "At the start of each for-loop iteration, the elements in $A[1,...,i-1]$ are in sorted order and all less than any element in $A[i,...,A.length]$.   $(**)$\n",
      "<br />\n",
      "\n",
      "<b>Initialization</b>: <br />\n",
      "In the first iteration of for-loop, we have $i=1$. Then $(**)$ holds obviously because $A[1,...,i-1]$ is empty.\n",
      "<br />\n",
      "\n",
      "<b>Maintenance</b>: <br />\n",
      "Suppose $(**)$ is true for some i. The inner for-loop provides that $A[i] \\leq A[k]$ for all $i \\leq k \\leq A.length$, so we have $A[l] \\leq A[i] \\leq A[k]$ for all $l$ in $[1,...i-1]$ and $k$ in $[i,...,A.length]$. And, note that $A[1,...,i-1]$ is in sorted order and unmodified during this iteration, it concludes $(**)$ holds for $i+1$.\n",
      "<br />\n",
      "\n",
      "<b>Termination</b>: <br />\n",
      "When the for-loop terminates, we have $i=A.length-1$ and $(**)$ holds for $i+1$ after the final iteration. Hence, $A[1,...,A.length-1]$ is sorted and less than $A[A.length]$, thus $A[1,...,A.length]$ is sorted. This completes correctness of (2.3)."
     ]
    },
    {
     "cell_type": "markdown",
     "metadata": {},
     "source": [
      "<font size=3.5>d.</font> <br />\n",
      "Let $n=A.length$, $t_i$ denote the iterating times of inner for-loop for given $i$, and $T(n)$ denote the running time of BUBBLESORT. Consider the following analysis: <br />\n",
      "<table border=\"hidden\" rules=\"none\"><tr><th>BUBBLESORT(A)</th><th>cost</th><th>time</th></tr><tr><td>&emsp;for i = 1 to A.length-1</td><td>$c_1$</td><td>$n-1$</td></tr><tr><td>&emsp;&emsp;for j = A.length downto i+1</td><td>$c_2$</td><td>$\\sum^{n-1}_{i=1}{t_i}$</td></tr><tr><td>&emsp;&emsp;&emsp;if A[j] &lt; A[j-1]</td><td>$c_3$</td><td>$\\sum^{n-1}_{i=1}{t_i}$</td></tr><tr><td>&emsp;&emsp;&emsp;&emsp;exchange A[j] with A[j-1]</td><td>$c_4$</td><td>$\\sum^{n-1}_{i=1}{t_i}$</td></tr></table>\n",
      "By observation, $t_i=n-i$ and then $$T(n) = c_1(n-1)+c_2\\sum^{n-1}_{i=1}{t_i}+c_3\\sum^{n-1}_{i=1}{t_i}+c_4\\sum^{n-1}_{i=1}{t_i}=c_1(n-1)+(c_2+c_3+c_4)\\sum^{n-1}_{i=1}{t_i}=c_1(n-1)+(c_2+c_3+c_4)\\frac{n(n-1)}{2}$$\n",
      "Thus, the worst-case running time of BUBBLESORT is $c_1(n-1)+(c_2+c_3+c_4)\\frac{n(n-1)}{2}$.<br />\n",
      "Note that both the best and worst running time of BUBBLESORT is $\\Theta(n)$. ($\\because \\frac{c_2+c_3+c_4}{2}n^2 \\leq T(n) \\leq (c_1+c_2+c_3+c_4)n^2$ $\\therefore T(n) = \\Theta(n)$) Now we have the same complexity of worst-case running time of bubble sort and insertion sort. But insertion sort has best-case running time complexity of $\\Theta(n)$, which is better than bubble sort's best-case running time complexity of $\\Theta(n)$. <br />"
     ]
    },
    {
     "cell_type": "markdown",
     "metadata": {},
     "source": [
      "<br /><font size=5>3-2</font>"
     ]
    },
    {
     "cell_type": "markdown",
     "metadata": {},
     "source": [
      "<style type=\"text/css\">\n",
      ".tg  {border-collapse:collapse;border-spacing:0;}\n",
      ".tg td{font-family:Arial, sans-serif;font-size:14px;padding:10px 5px;border-style:solid;border-width:1px;overflow:hidden;word-break:normal;}\n",
      ".tg th{font-family:Arial, sans-serif;font-size:14px;font-weight:normal;padding:10px 5px;border-style:solid;border-width:1px;overflow:hidden;word-break:normal;}\n",
      "</style>\n",
      "<table class=\"tg\">\n",
      "  <tr>\n",
      "    <th class=\"tg-031e\">A</th>\n",
      "    <th class=\"tg-031e\">B</th>\n",
      "    <th class=\"tg-031e\">O</th>\n",
      "    <th class=\"tg-031e\">o</th>\n",
      "    <th class=\"tg-031e\">$\\Omega$</th>\n",
      "    <th class=\"tg-031e\">$\\omega$</th>\n",
      "    <th class=\"tg-031e\">$\\Theta$</th>\n",
      "  </tr>\n",
      "  <tr>\n",
      "    <td class=\"tg-031e\">$\\lg^{k}n$</td>\n",
      "    <td class=\"tg-031e\">$n^{\\epsilon}$</td>\n",
      "    <td class=\"tg-031e\">yes</td>\n",
      "    <td class=\"tg-031e\">yes</td>\n",
      "    <td class=\"tg-031e\">no</td>\n",
      "    <td class=\"tg-031e\">no</td>\n",
      "    <td class=\"tg-031e\">no</td>\n",
      "  </tr>\n",
      "  <tr>\n",
      "    <td class=\"tg-031e\">$n^k$</td>\n",
      "    <td class=\"tg-031e\">$c^n$</td>\n",
      "    <td class=\"tg-031e\">yes</td>\n",
      "    <td class=\"tg-031e\">yes</td>\n",
      "    <td class=\"tg-031e\">no</td>\n",
      "    <td class=\"tg-031e\">no</td>\n",
      "    <td class=\"tg-031e\">no</td>\n",
      "  </tr>\n",
      "  <tr>\n",
      "    <td class=\"tg-031e\">$\\sqrt{n}$</td>\n",
      "    <td class=\"tg-031e\">$n^{\\sin{n}}$</td>\n",
      "    <td class=\"tg-031e\">no</td>\n",
      "    <td class=\"tg-031e\">no</td>\n",
      "    <td class=\"tg-031e\">no</td>\n",
      "    <td class=\"tg-031e\">no</td>\n",
      "    <td class=\"tg-031e\">no</td>\n",
      "  </tr>\n",
      "  <tr>\n",
      "    <td class=\"tg-031e\">$2^n$</td>\n",
      "    <td class=\"tg-031e\">$2^{\\frac{n}{2}}$</td>\n",
      "    <td class=\"tg-031e\">no</td>\n",
      "    <td class=\"tg-031e\">no</td>\n",
      "    <td class=\"tg-031e\">yes</td>\n",
      "    <td class=\"tg-031e\">yes</td>\n",
      "    <td class=\"tg-031e\">no</td>\n",
      "  </tr>\n",
      "  <tr>\n",
      "    <td class=\"tg-031e\">$n^{\\lg c}$</td>\n",
      "    <td class=\"tg-031e\">$c^{\\lg n}$</td>\n",
      "    <td class=\"tg-031e\">yes</td>\n",
      "    <td class=\"tg-031e\">no</td>\n",
      "    <td class=\"tg-031e\">yes</td>\n",
      "    <td class=\"tg-031e\">no</td>\n",
      "    <td class=\"tg-031e\">yes</td>\n",
      "  </tr>\n",
      "  <tr>\n",
      "    <td class=\"tg-031e\">$\\lg{(n!)}$</td>\n",
      "    <td class=\"tg-031e\">$\\lg{(n^n)}$</td>\n",
      "    <td class=\"tg-031e\">yes</td>\n",
      "    <td class=\"tg-031e\">no</td>\n",
      "    <td class=\"tg-031e\">yes</td>\n",
      "    <td class=\"tg-031e\">no</td>\n",
      "    <td class=\"tg-031e\">yes</td>\n",
      "  </tr>\n",
      "</table>"
     ]
    },
    {
     "cell_type": "markdown",
     "metadata": {},
     "source": [
      "<br /><font size=5>3-3</font>"
     ]
    },
    {
     "cell_type": "markdown",
     "metadata": {},
     "source": [
      "<font size=3.5>a.</font> <br />\n",
      "<font size=3>\n",
      "Let $f \\simeq g$ if $f = \\Theta(g)$. Note that $\\simeq$ is an equivalence relation. And let $f \\succ g$ denote the relation $f = \\Omega(g)$. <br />\n",
      "Then we have\n",
      "$2^{2^{n+1}}$ $\\succ$\n",
      "$2^{2^n}$ $\\succ$\n",
      "$(n+1)!$ $\\succ$\n",
      "$n!$ $\\succ$\n",
      "$(\\lg{n})!$ $\\succ$\n",
      "$e^n$ $\\succ$\n",
      "$n \\cdot 2^n$ $\\succ$\n",
      "$2^n$ $\\succ$\n",
      "$(\\frac{3}{2})^n$ $\\succ$\n",
      "$n^{\\lg{\\lg{n}}}$ $\\simeq$ $(\\lg n)^{\\lg n}$ $\\succ$\n",
      "$n^3$ $\\succ$\n",
      "$n^2$ $\\simeq$ $4^{\\lg n}$ $\\succ$\n",
      "$\\lg(n!)$ $\\simeq$ $n \\lg n$ $\\succ$\n",
      "$2^{\\lg{n}}$ $\\simeq$ $n$ $\\succ$\n",
      "$(\\sqrt{2})^{\\lg{n}}$ $\\succ$\n",
      "$2^{\\sqrt{2 \\lg n}}$ $\\succ$\n",
      "$\\lg^2{n}$ $\\succ$\n",
      "$\\ln{n}$ $\\succ$\n",
      "$\\sqrt{\\lg n}$ $\\succ$\n",
      "$\\ln \\ln n$ $\\succ$\n",
      "$2^{\\lg^{*}{n}}$ $\\succ$\n",
      "$\\lg^{*}{n}$ $\\simeq$ $\\lg^{*}{(\\lg n)}$ $\\succ$\n",
      "$\\lg{(\\lg^{*}{n})}$ $\\succ$\n",
      "$n^{\\frac{1}{\\lg{n}}}$ $\\simeq$ $1$.\n",
      "</font>"
     ]
    },
    {
     "cell_type": "markdown",
     "metadata": {},
     "source": [
      "<font size=3.5>b.</font> <br />\n",
      "$e^{\\tan{\\frac{n\\pi}{4}}}$"
     ]
    },
    {
     "cell_type": "markdown",
     "metadata": {},
     "source": [
      "<br /><font size=5>3-4</font>"
     ]
    },
    {
     "cell_type": "markdown",
     "metadata": {},
     "source": [
      "<font size=3.5><b>a.</b></font> False&emsp;<font size=3.5><b>b.</b></font> False&emsp;<font size=3.5><b>c.</b></font> True&emsp;<font size=3.5><b>d.</b></font> False&emsp;\n",
      "<font size=3.5><b>e.</b></font> False&emsp;<font size=3.5><b>f.</b></font> True&emsp;<font size=3.5><b>g.</b></font> False&emsp;<font size=3.5><b>h.</b></font> False&emsp;"
     ]
    },
    {
     "cell_type": "markdown",
     "metadata": {},
     "source": [
      "<font size=3.5>A counterexample of d.</font> <br />\n",
      "Let $f(n)=n$, $g(n)=\\frac{n}{2}$, then we have $0 \\leq n \\leq 2 \\frac{n}{2}$ for all $n \\in \\mathbb{N}$, therefore $f(n)=O(g(n))$. But for any constant $c \\in \\mathbb{R}$, the limit $$\\lim_{n \\rightarrow \\infty}{\\frac{c2^{\\frac{n}{2}}}{2^n}}=0$$ implies that $2^n \\neq O(2^{\\frac{n}{2}})$."
     ]
    }
   ],
   "metadata": {}
  }
 ]
}